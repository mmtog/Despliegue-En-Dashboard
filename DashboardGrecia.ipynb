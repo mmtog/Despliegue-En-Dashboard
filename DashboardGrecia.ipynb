{
 "cells": [
  {
   "cell_type": "code",
   "execution_count": null,
   "metadata": {},
   "outputs": [],
   "source": [
    "#Instalamos la libreria de STREAMLIT\n",
    "%pip install streamlit"
   ]
  },
  {
   "cell_type": "code",
   "execution_count": null,
   "metadata": {},
   "outputs": [],
   "source": [
    "#Instalamos la libreria de PLOTLY\n",
    "%pip install plotly"
   ]
  },
  {
   "cell_type": "code",
   "execution_count": null,
   "metadata": {},
   "outputs": [],
   "source": [
    "#Instalamos librería para análisis de variables categóricas\n",
    "%pip install funpymodeling"
   ]
  },
  {
   "cell_type": "code",
   "execution_count": 4,
   "metadata": {},
   "outputs": [
    {
     "name": "stdout",
     "output_type": "stream",
     "text": [
      "zsh:1: command not found: npm\n"
     ]
    }
   ],
   "source": [
    "#Para instalar npm en visual studio\n",
    "#1.Desde Google escribir node.js\n",
    "#2. Instalar la versión más recomendada\n",
    "! npm install localtunnel"
   ]
  },
  {
   "cell_type": "code",
   "execution_count": 76,
   "metadata": {},
   "outputs": [
    {
     "name": "stdout",
     "output_type": "stream",
     "text": [
      "Overwriting app.py\n"
     ]
    }
   ],
   "source": [
    "%%writefile app.py \n",
    "#Creamos el archivo de la APP en el interprete principal (Phyton)\n",
    "\n",
    "#############################IMPLEMENTACIÓN DE DASHBOARD################################\n",
    "\n",
    "#Importamos librerias\n",
    "import streamlit as st\n",
    "import plotly.express as px\n",
    "import pandas as pd\n",
    "import numpy as np\n",
    "import plotly.graph_objects as go\n",
    "from funpymodeling.exploratory import freq_tbl \n",
    "\n",
    "#################################################################\n",
    "\n",
    "#Definimos la instancia de streamlit\n",
    "@st.cache_resource\n",
    "\n",
    "#################################################################\n",
    "\n",
    "#Creamos la función de carga de datos\n",
    "def load_data():\n",
    "    #Lectura del archivo csv sin indice\n",
    "    df1=pd.read_csv(\"Grecia_limpios_final.csv\")\n",
    "    #Carga desde un archivo csv con indice\n",
    "    df2= pd.read_csv(\"Grecia_limpios_final.csv\", index_col= 'property_type')\n",
    "    \n",
    "#################################################################\n",
    "\n",
    "    #Etapa de procesamiento de Datos\n",
    "   \n",
    "    #ANÁLISIS UNIVARIADO DE FRECUENCIAS\n",
    "    #Obtengo un análisis univariado de una variable categórica en específico\n",
    "    table= freq_tbl(df1['property_type'])\n",
    "    #Obtengo un filtro de los valores más reelevantes de la variables categórica seleccionada\n",
    "    Filtro= table[table['frequency']>1]\n",
    "    #Ajusto el indice de mi dataframe\n",
    "    Filtro_index1= Filtro.set_index('property_type')        \n",
    "    \n",
    "    #Selecciono las columnas tipo numericas del dataframe Filtro_index1\n",
    "    numeric_df1 = Filtro_index1.select_dtypes(['float','int'])  #Devuelve Columnas\n",
    "    numeric_cols1= numeric_df1.columns                          #Devuelve lista de Columnas \n",
    "\n",
    "    #Selecciono las columnas tipo numericas del dataframe df2\n",
    "    numeric_df2 = df2.select_dtypes(['float','int'])  #Devuelve Columnas\n",
    "    numeric_cols2= numeric_df2.columns                #Devuelve lista de Columnas    \n",
    "      \n",
    "\n",
    "    return Filtro_index1, df2, numeric_df1, numeric_cols1, numeric_df2, numeric_cols2 \n",
    "#################################################################\n",
    "\n",
    "#Cargo los datos obtenidos de la función \"load_data\"\n",
    "Filtro_index1, df2, numeric_df1, numeric_cols1, numeric_df2, numeric_cols2 = load_data()\n",
    "\n",
    "\n",
    "######################CREACIÓN DEL DASHBOARD################################\n",
    "\n",
    "# Cargar los datos\n",
    "df = pd.read_csv('Grecia_limpios_final.csv')\n",
    "#1. CREACIÓN DE LA SIDEBAR\n",
    "#Generamos los encabezados para la barra lateral (sidebar)\n",
    "st.sidebar.title(\"DASHBOARD\")\n",
    "st.sidebar.header(\"Sidebar\")\n",
    "st.sidebar.subheader(\"Panel de selección\")\n",
    "\n",
    "#2. CREACIÓN DE LOS FRAMES\n",
    "#Generamos los Frames que utilizaremos en el diseño\n",
    "#Widget 1: Selectbox\n",
    "#Menu desplegable de opciones de los Frames seleccionados\n",
    "Frames= st.selectbox(label= \"Frames\", options= [\"Frame 1\", \"Frame 2\"])\n",
    "#################################################################\n",
    "\n",
    "#3. CONTENIDO DEL FRAME 1\n",
    "if Frames == \"Frame 1\":\n",
    "    st.markdown(\"<h1 style='color: pink;'>Tipo de Propiedad</h1>\", unsafe_allow_html=True)\n",
    "    st.markdown(\"<h3 style='color: purple;'>Line Plot</h3>\", unsafe_allow_html=True)\n",
    "    \n",
    "    #Widget 2: Checkbox\n",
    "    #Generamos un cuadro de selección (Checkbox) en una barra lateral (sidebar) para mostrar dataset\n",
    "    check_box = st.sidebar.checkbox(label= \"Mostrar Dataset\")\n",
    "    #Condicional para que aparezca el dataframe\n",
    "    if check_box:\n",
    "        #Mostramos el dataset\n",
    "        st.write(Filtro_index1)\n",
    "        st.write(df2)\n",
    "        \n",
    "    #Widget 3: Multiselect box\n",
    "    #Generamos un cuadro de multi-selección (Y) para seleccionar variables a graficar\n",
    "    Vars_num_selected= st.sidebar.multiselect(label=\" widget\", options= numeric_cols2)\n",
    "      \n",
    "    #GRAPH 1: LINEPLOT\n",
    "    #Despliegue de un line plot, definiendo las variables \"X categorias\" y \"Y numéricas\" \n",
    "    figure1 = px.line(\n",
    "        data_frame=df2,\n",
    "        x=df2.index,\n",
    "        y=Vars_num_selected,\n",
    "        title=str('property_type'),\n",
    "        width=1600,\n",
    "        height=600,\n",
    "        color_discrete_sequence=px.colors.qualitative.Dark24 \n",
    "    )\n",
    "    st.plotly_chart(figure1)\n",
    "    \n",
    "    st.plotly_chart(figure1)\n",
    "    #Mostramos el lineplot\n",
    "    st.plotly_chart(figure1)   \n",
    "    #4.CONTENIDO DEL FRAME 2 \n",
    "if Frames == \"Frame 2\":\n",
    "    # Generamos los encabezados para el dashboard con colores\n",
    "    st.markdown(\"<h1 style='color: pink;'>ACCOMODATES</h1>\", unsafe_allow_html=True)\n",
    "    st.markdown(\"<h3 style='color: orange;'>Bar Plot</h3>\", unsafe_allow_html=True)\n",
    "   #Menu desplegable de opciones de las variables numericas graficadas\n",
    "    Vars_Num=st.selectbox(label=\"Variables\",options=[\"frequency\",\"percentage\",\"cumulative_perc\"])\n",
    "    if Vars_Num==\"frequency\":\n",
    "        numeric_cols1[0]\n",
    "    if Vars_Num==\"percentage\":\n",
    "        numeric_cols1[1]\n",
    "    if Vars_Num==\"cumulative_perc\":\n",
    "        numeric_cols1[2]\n",
    "\n",
    "#GRAPH 2: BARPLOT\n",
    "    #Despliegue de un bar plot, definiendo las variables \"X categorias\" y \"Y numericas\"\n",
    "    figure2=px.bar(data_frame=Filtro_index1,x=Filtro_index1.index,\n",
    "                y=Vars_Num,title=str(\"Analisis Univariado\"))\n",
    "    figure2.update_xaxes(automargin=True)\n",
    "    figure2.update_yaxes(automargin=True)\n",
    "    color_discrete_sequence=['#FF69B4']\n",
    "    \n",
    "\n",
    "    #Widget 4: Button\n",
    "    #Generamos un button en la barra lateral para mostrar las variables tipo texto\n",
    "    Button=st.sidebar.button(label=\"BARPLOT\")\n",
    "    #Condicional para que aparezca el dataframe\n",
    "    if Button:\n",
    "        #Mostrar el barplot\n",
    "        st.plotly_chart(figure2)    "
   ]
  }
 ],
 "metadata": {
  "kernelspec": {
   "display_name": "Python 3",
   "language": "python",
   "name": "python3"
  },
  "language_info": {
   "codemirror_mode": {
    "name": "ipython",
    "version": 3
   },
   "file_extension": ".py",
   "mimetype": "text/x-python",
   "name": "python",
   "nbconvert_exporter": "python",
   "pygments_lexer": "ipython3",
   "version": "3.12.4"
  }
 },
 "nbformat": 4,
 "nbformat_minor": 2
}
